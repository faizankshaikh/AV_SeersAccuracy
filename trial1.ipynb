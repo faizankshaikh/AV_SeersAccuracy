{
 "cells": [
  {
   "cell_type": "code",
   "execution_count": 1,
   "metadata": {
    "collapsed": true
   },
   "outputs": [],
   "source": [
    "import numpy as np\n",
    "import pandas as pd\n",
    "\n",
    "from sklearn.naive_bayes import BernoulliNB, MultinomialNB\n",
    "from sklearn.svm import SVC\n",
    "from sklearn.ensemble import RandomForestClassifier, GradientBoostingClassifier\n",
    "from sklearn.linear_model import LogisticRegression\n",
    "from sklearn.tree import DecisionTreeClassifier\n",
    "\n",
    "from sklearn.feature_selection import RFE\n",
    "\n",
    "from sklearn.metrics import roc_auc_score\n",
    "from sklearn.grid_search import GridSearchCV"
   ]
  },
  {
   "cell_type": "code",
   "execution_count": 2,
   "metadata": {
    "collapsed": false
   },
   "outputs": [],
   "source": [
    "data = pd.read_csv('data/submission1.csv')"
   ]
  },
  {
   "cell_type": "code",
   "execution_count": 3,
   "metadata": {
    "collapsed": false
   },
   "outputs": [
    {
     "data": {
      "text/html": [
       "<div>\n",
       "<table border=\"1\" class=\"dataframe\">\n",
       "  <thead>\n",
       "    <tr style=\"text-align: right;\">\n",
       "      <th></th>\n",
       "      <th>A</th>\n",
       "      <th>B</th>\n",
       "      <th>C</th>\n",
       "      <th>D</th>\n",
       "      <th>E</th>\n",
       "      <th>F</th>\n",
       "      <th>G</th>\n",
       "      <th>H</th>\n",
       "      <th>0_M_0</th>\n",
       "      <th>0_M_1</th>\n",
       "      <th>...</th>\n",
       "      <th>Cash</th>\n",
       "      <th>Cheque</th>\n",
       "      <th>Other</th>\n",
       "      <th>Credit</th>\n",
       "      <th>Client_ID</th>\n",
       "      <th>Advertisment</th>\n",
       "      <th>Other.1</th>\n",
       "      <th>Reference</th>\n",
       "      <th>Walkin</th>\n",
       "      <th>Target</th>\n",
       "    </tr>\n",
       "  </thead>\n",
       "  <tbody>\n",
       "    <tr>\n",
       "      <th>0</th>\n",
       "      <td>0</td>\n",
       "      <td>1</td>\n",
       "      <td>0</td>\n",
       "      <td>0</td>\n",
       "      <td>0</td>\n",
       "      <td>0</td>\n",
       "      <td>0</td>\n",
       "      <td>0</td>\n",
       "      <td>1</td>\n",
       "      <td>0</td>\n",
       "      <td>...</td>\n",
       "      <td>0</td>\n",
       "      <td>1</td>\n",
       "      <td>0</td>\n",
       "      <td>0</td>\n",
       "      <td>345612161</td>\n",
       "      <td>0</td>\n",
       "      <td>0</td>\n",
       "      <td>0</td>\n",
       "      <td>1</td>\n",
       "      <td>0</td>\n",
       "    </tr>\n",
       "    <tr>\n",
       "      <th>1</th>\n",
       "      <td>0</td>\n",
       "      <td>2</td>\n",
       "      <td>0</td>\n",
       "      <td>0</td>\n",
       "      <td>0</td>\n",
       "      <td>0</td>\n",
       "      <td>0</td>\n",
       "      <td>0</td>\n",
       "      <td>2</td>\n",
       "      <td>0</td>\n",
       "      <td>...</td>\n",
       "      <td>0</td>\n",
       "      <td>0</td>\n",
       "      <td>0</td>\n",
       "      <td>1</td>\n",
       "      <td>345612467</td>\n",
       "      <td>0</td>\n",
       "      <td>1</td>\n",
       "      <td>0</td>\n",
       "      <td>0</td>\n",
       "      <td>0</td>\n",
       "    </tr>\n",
       "    <tr>\n",
       "      <th>2</th>\n",
       "      <td>0</td>\n",
       "      <td>0</td>\n",
       "      <td>2</td>\n",
       "      <td>0</td>\n",
       "      <td>0</td>\n",
       "      <td>0</td>\n",
       "      <td>0</td>\n",
       "      <td>0</td>\n",
       "      <td>0</td>\n",
       "      <td>0</td>\n",
       "      <td>...</td>\n",
       "      <td>0</td>\n",
       "      <td>1</td>\n",
       "      <td>0</td>\n",
       "      <td>0</td>\n",
       "      <td>345612552</td>\n",
       "      <td>0</td>\n",
       "      <td>0</td>\n",
       "      <td>1</td>\n",
       "      <td>0</td>\n",
       "      <td>0</td>\n",
       "    </tr>\n",
       "    <tr>\n",
       "      <th>3</th>\n",
       "      <td>4</td>\n",
       "      <td>0</td>\n",
       "      <td>0</td>\n",
       "      <td>0</td>\n",
       "      <td>0</td>\n",
       "      <td>0</td>\n",
       "      <td>0</td>\n",
       "      <td>0</td>\n",
       "      <td>0</td>\n",
       "      <td>0</td>\n",
       "      <td>...</td>\n",
       "      <td>0</td>\n",
       "      <td>1</td>\n",
       "      <td>0</td>\n",
       "      <td>0</td>\n",
       "      <td>345612557</td>\n",
       "      <td>0</td>\n",
       "      <td>0</td>\n",
       "      <td>0</td>\n",
       "      <td>1</td>\n",
       "      <td>0</td>\n",
       "    </tr>\n",
       "    <tr>\n",
       "      <th>4</th>\n",
       "      <td>0</td>\n",
       "      <td>1</td>\n",
       "      <td>0</td>\n",
       "      <td>0</td>\n",
       "      <td>0</td>\n",
       "      <td>0</td>\n",
       "      <td>0</td>\n",
       "      <td>2</td>\n",
       "      <td>1</td>\n",
       "      <td>0</td>\n",
       "      <td>...</td>\n",
       "      <td>0</td>\n",
       "      <td>0</td>\n",
       "      <td>0</td>\n",
       "      <td>2</td>\n",
       "      <td>345612625</td>\n",
       "      <td>0</td>\n",
       "      <td>0</td>\n",
       "      <td>0</td>\n",
       "      <td>2</td>\n",
       "      <td>0</td>\n",
       "    </tr>\n",
       "  </tbody>\n",
       "</table>\n",
       "<p>5 rows × 41 columns</p>\n",
       "</div>"
      ],
      "text/plain": [
       "   A  B  C  D  E  F  G  H  0_M_0  0_M_1   ...    Cash  Cheque  Other  Credit  \\\n",
       "0  0  1  0  0  0  0  0  0      1      0   ...       0       1      0       0   \n",
       "1  0  2  0  0  0  0  0  0      2      0   ...       0       0      0       1   \n",
       "2  0  0  2  0  0  0  0  0      0      0   ...       0       1      0       0   \n",
       "3  4  0  0  0  0  0  0  0      0      0   ...       0       1      0       0   \n",
       "4  0  1  0  0  0  0  0  2      1      0   ...       0       0      0       2   \n",
       "\n",
       "   Client_ID  Advertisment  Other.1  Reference  Walkin  Target  \n",
       "0  345612161             0        0          0       1       0  \n",
       "1  345612467             0        1          0       0       0  \n",
       "2  345612552             0        0          1       0       0  \n",
       "3  345612557             0        0          0       1       0  \n",
       "4  345612625             0        0          0       2       0  \n",
       "\n",
       "[5 rows x 41 columns]"
      ]
     },
     "execution_count": 3,
     "metadata": {},
     "output_type": "execute_result"
    }
   ],
   "source": [
    "data.head()"
   ]
  },
  {
   "cell_type": "code",
   "execution_count": 4,
   "metadata": {
    "collapsed": false
   },
   "outputs": [
    {
     "name": "stdout",
     "output_type": "stream",
     "text": [
      "<class 'pandas.core.frame.DataFrame'>\n",
      "Int64Index: 417107 entries, 0 to 417106\n",
      "Data columns (total 41 columns):\n",
      "A               417107 non-null int64\n",
      "B               417107 non-null int64\n",
      "C               417107 non-null int64\n",
      "D               417107 non-null int64\n",
      "E               417107 non-null int64\n",
      "F               417107 non-null int64\n",
      "G               417107 non-null int64\n",
      "H               417107 non-null int64\n",
      "0_M_0           417107 non-null int64\n",
      "0_M_1           417107 non-null int64\n",
      "0_F_0           417107 non-null int64\n",
      "0_F_1           417107 non-null int64\n",
      "1_M_0           417107 non-null int64\n",
      "1_M_1           417107 non-null int64\n",
      "1_F_0           417107 non-null int64\n",
      "1_F_1           417107 non-null int64\n",
      "2003            417107 non-null int64\n",
      "2004            417107 non-null int64\n",
      "2005            417107 non-null int64\n",
      "2006            417107 non-null int64\n",
      "Age             417107 non-null float64\n",
      "varC            417107 non-null int64\n",
      "freq            417107 non-null int64\n",
      "freq1           417107 non-null int64\n",
      "A.1             417107 non-null int64\n",
      "B.1             417107 non-null int64\n",
      "C.1             417107 non-null int64\n",
      "D.1             417107 non-null int64\n",
      "E.1             417107 non-null int64\n",
      "Y               417107 non-null int64\n",
      "total           417107 non-null float64\n",
      "Cash            417107 non-null int64\n",
      "Cheque          417107 non-null int64\n",
      "Other           417107 non-null int64\n",
      "Credit          417107 non-null int64\n",
      "Client_ID       417107 non-null int64\n",
      "Advertisment    417107 non-null int64\n",
      "Other.1         417107 non-null int64\n",
      "Reference       417107 non-null int64\n",
      "Walkin          417107 non-null int64\n",
      "Target          417107 non-null int64\n",
      "dtypes: float64(2), int64(39)\n",
      "memory usage: 133.7 MB\n"
     ]
    }
   ],
   "source": [
    "data.info()"
   ]
  },
  {
   "cell_type": "code",
   "execution_count": 53,
   "metadata": {
    "collapsed": false
   },
   "outputs": [],
   "source": [
    "data_x = data.drop(['Client_ID', 'Target'], axis = 1)\n",
    "data_y = data.Target"
   ]
  },
  {
   "cell_type": "code",
   "execution_count": 54,
   "metadata": {
    "collapsed": false
   },
   "outputs": [
    {
     "name": "stdout",
     "output_type": "stream",
     "text": [
      "<class 'pandas.core.frame.DataFrame'>\n",
      "Int64Index: 417107 entries, 0 to 417106\n",
      "Data columns (total 39 columns):\n",
      "A               417107 non-null int64\n",
      "B               417107 non-null int64\n",
      "C               417107 non-null int64\n",
      "D               417107 non-null int64\n",
      "E               417107 non-null int64\n",
      "F               417107 non-null int64\n",
      "G               417107 non-null int64\n",
      "H               417107 non-null int64\n",
      "0_M_0           417107 non-null int64\n",
      "0_M_1           417107 non-null int64\n",
      "0_F_0           417107 non-null int64\n",
      "0_F_1           417107 non-null int64\n",
      "1_M_0           417107 non-null int64\n",
      "1_M_1           417107 non-null int64\n",
      "1_F_0           417107 non-null int64\n",
      "1_F_1           417107 non-null int64\n",
      "2003            417107 non-null int64\n",
      "2004            417107 non-null int64\n",
      "2005            417107 non-null int64\n",
      "2006            417107 non-null int64\n",
      "Age             417107 non-null float64\n",
      "varC            417107 non-null int64\n",
      "freq            417107 non-null int64\n",
      "freq1           417107 non-null int64\n",
      "A.1             417107 non-null int64\n",
      "B.1             417107 non-null int64\n",
      "C.1             417107 non-null int64\n",
      "D.1             417107 non-null int64\n",
      "E.1             417107 non-null int64\n",
      "Y               417107 non-null int64\n",
      "total           417107 non-null float64\n",
      "Cash            417107 non-null int64\n",
      "Cheque          417107 non-null int64\n",
      "Other           417107 non-null int64\n",
      "Credit          417107 non-null int64\n",
      "Advertisment    417107 non-null int64\n",
      "Other.1         417107 non-null int64\n",
      "Reference       417107 non-null int64\n",
      "Walkin          417107 non-null int64\n",
      "dtypes: float64(2), int64(37)\n",
      "memory usage: 127.3 MB\n"
     ]
    }
   ],
   "source": [
    "data_x.info()"
   ]
  },
  {
   "cell_type": "code",
   "execution_count": 28,
   "metadata": {
    "collapsed": false
   },
   "outputs": [],
   "source": [
    "train_x = data_x[data_x['2006'] == 0].values\n",
    "train_y = data_y[data_x['2006'] == 0].values\n",
    "test_x = data_x[data_x['2006'] == 1].values\n",
    "test_y = data_y[data_x['2006'] == 1].values"
   ]
  },
  {
   "cell_type": "code",
   "execution_count": 36,
   "metadata": {
    "collapsed": true
   },
   "outputs": [],
   "source": [
    "rmf = RandomForestClassifier(n_jobs=3, n_estimators=100, max_depth=25)"
   ]
  },
  {
   "cell_type": "code",
   "execution_count": 39,
   "metadata": {
    "collapsed": false
   },
   "outputs": [
    {
     "data": {
      "text/plain": [
       "0.57044839267908998"
      ]
     },
     "execution_count": 39,
     "metadata": {},
     "output_type": "execute_result"
    }
   ],
   "source": [
    "rmf.fit(train_x, train_y);\n",
    "roc_auc_score(test_y, rmf.predict(test_x))"
   ]
  },
  {
   "cell_type": "code",
   "execution_count": 70,
   "metadata": {
    "collapsed": true
   },
   "outputs": [],
   "source": [
    "gbm = GradientBoostingClassifier(n_estimators=50)"
   ]
  },
  {
   "cell_type": "code",
   "execution_count": 71,
   "metadata": {
    "collapsed": false
   },
   "outputs": [
    {
     "data": {
      "text/plain": [
       "0.57107746592837916"
      ]
     },
     "execution_count": 71,
     "metadata": {},
     "output_type": "execute_result"
    }
   ],
   "source": [
    "gbm.fit(train_x, train_y);\n",
    "roc_auc_score(test_y, gbm.predict(test_x))"
   ]
  },
  {
   "cell_type": "code",
   "execution_count": 29,
   "metadata": {
    "collapsed": false
   },
   "outputs": [],
   "source": [
    "nb = BernoulliNB(250)"
   ]
  },
  {
   "cell_type": "code",
   "execution_count": 38,
   "metadata": {
    "collapsed": false
   },
   "outputs": [
    {
     "data": {
      "text/plain": [
       "0.8184731026763219"
      ]
     },
     "execution_count": 38,
     "metadata": {},
     "output_type": "execute_result"
    }
   ],
   "source": [
    "nb.fit(train_x, train_y);\n",
    "roc_auc_score(test_y, nb.predict(test_x))"
   ]
  },
  {
   "cell_type": "code",
   "execution_count": 163,
   "metadata": {
    "collapsed": false
   },
   "outputs": [],
   "source": [
    "nb = BernoulliNB()\n",
    "prm = {'alpha': [230, 240, 250, 260, 270]}\n",
    "clf = GridSearchCV(nb, prm, scoring='roc_auc')\n",
    "clf.fit(data_x, data_y);"
   ]
  },
  {
   "cell_type": "code",
   "execution_count": 164,
   "metadata": {
    "collapsed": false
   },
   "outputs": [
    {
     "name": "stdout",
     "output_type": "stream",
     "text": [
      "[mean: 0.98064, std: 0.00029, params: {'alpha': 230}, mean: 0.98065, std: 0.00024, params: {'alpha': 240}, mean: 0.98068, std: 0.00010, params: {'alpha': 250}, mean: 0.98068, std: 0.00012, params: {'alpha': 260}, mean: 0.98062, std: 0.00028, params: {'alpha': 270}] \n",
      "\n",
      "BernoulliNB(alpha=250, binarize=0.0, class_prior=None, fit_prior=True)\n"
     ]
    }
   ],
   "source": [
    "print clf.grid_scores_, '\\n'\n",
    "print clf.best_estimator_"
   ]
  },
  {
   "cell_type": "code",
   "execution_count": 50,
   "metadata": {
    "collapsed": false
   },
   "outputs": [],
   "source": [
    "mb = MultinomialNB(250)"
   ]
  },
  {
   "cell_type": "code",
   "execution_count": 51,
   "metadata": {
    "collapsed": false
   },
   "outputs": [
    {
     "data": {
      "text/plain": [
       "0.71347260836189197"
      ]
     },
     "execution_count": 51,
     "metadata": {},
     "output_type": "execute_result"
    }
   ],
   "source": [
    "mb.fit(train_x, train_y);\n",
    "roc_auc_score(test_y, mb.predict(test_x))"
   ]
  },
  {
   "cell_type": "code",
   "execution_count": 91,
   "metadata": {
    "collapsed": true
   },
   "outputs": [],
   "source": [
    "tr = DecisionTreeClassifier(max_depth=10)"
   ]
  },
  {
   "cell_type": "code",
   "execution_count": 92,
   "metadata": {
    "collapsed": false
   },
   "outputs": [
    {
     "data": {
      "text/plain": [
       "0.57092648834854964"
      ]
     },
     "execution_count": 92,
     "metadata": {},
     "output_type": "execute_result"
    }
   ],
   "source": [
    "tr.fit(train_x, train_y);\n",
    "roc_auc_score(test_y, tr.predict(test_x))"
   ]
  },
  {
   "cell_type": "code",
   "execution_count": 73,
   "metadata": {
    "collapsed": true
   },
   "outputs": [],
   "source": [
    "lr = LogisticRegression()"
   ]
  },
  {
   "cell_type": "code",
   "execution_count": 74,
   "metadata": {
    "collapsed": false
   },
   "outputs": [
    {
     "data": {
      "text/plain": [
       "0.5650274806624076"
      ]
     },
     "execution_count": 74,
     "metadata": {},
     "output_type": "execute_result"
    }
   ],
   "source": [
    "lr.fit(train_x, train_y);\n",
    "roc_auc_score(test_y, lr.predict(test_x))"
   ]
  },
  {
   "cell_type": "code",
   "execution_count": null,
   "metadata": {
    "collapsed": true
   },
   "outputs": [],
   "source": [
    "svm = SVC('linear')"
   ]
  },
  {
   "cell_type": "code",
   "execution_count": null,
   "metadata": {
    "collapsed": true
   },
   "outputs": [],
   "source": [
    "svm.fit(train_x, train_y);\n",
    "roc_auc_score(test_y, svm.predict(test_x))"
   ]
  },
  {
   "cell_type": "code",
   "execution_count": 32,
   "metadata": {
    "collapsed": false
   },
   "outputs": [],
   "source": [
    "#nb.fit(data_x, data_y);\n",
    "pred = rfe.predict_proba(data_x)"
   ]
  },
  {
   "cell_type": "code",
   "execution_count": 33,
   "metadata": {
    "collapsed": false
   },
   "outputs": [],
   "source": [
    "sub_1 = pd.DataFrame({'Client_ID':data.Client_ID, 'Cross_Sell':pred[:, 1]})"
   ]
  },
  {
   "cell_type": "code",
   "execution_count": 34,
   "metadata": {
    "collapsed": true
   },
   "outputs": [],
   "source": [
    "sub_1.to_csv('sub07.csv', index=False)"
   ]
  },
  {
   "cell_type": "code",
   "execution_count": null,
   "metadata": {
    "collapsed": true
   },
   "outputs": [],
   "source": []
  },
  {
   "cell_type": "code",
   "execution_count": 31,
   "metadata": {
    "collapsed": false
   },
   "outputs": [
    {
     "name": "stdout",
     "output_type": "stream",
     "text": [
      "0.926011594506\n"
     ]
    }
   ],
   "source": [
    "rfe = RFE(nb, n_features_to_select=34)\n",
    "rfe.fit(train_x, train_y);\n",
    "print roc_auc_score(test_y, rfe.predict(test_x))"
   ]
  },
  {
   "cell_type": "code",
   "execution_count": null,
   "metadata": {
    "collapsed": true
   },
   "outputs": [],
   "source": []
  },
  {
   "cell_type": "code",
   "execution_count": 61,
   "metadata": {
    "collapsed": false
   },
   "outputs": [
    {
     "data": {
      "text/plain": [
       "count    417107.000000\n",
       "mean       1107.649428\n",
       "std         783.790695\n",
       "min          77.620000\n",
       "25%         620.000000\n",
       "50%         842.380000\n",
       "75%        1350.000000\n",
       "max        3951.260000\n",
       "Name: total, dtype: float64"
      ]
     },
     "execution_count": 61,
     "metadata": {},
     "output_type": "execute_result"
    }
   ],
   "source": [
    "data_x.total.describe()"
   ]
  },
  {
   "cell_type": "code",
   "execution_count": 57,
   "metadata": {
    "collapsed": false
   },
   "outputs": [],
   "source": [
    "data_x.total = data_x.loc[:, 'total'].where(abs(data_x.total - np.mean(data_x.total)) < 2 * np.std(data_x.total))"
   ]
  },
  {
   "cell_type": "code",
   "execution_count": 58,
   "metadata": {
    "collapsed": false
   },
   "outputs": [],
   "source": [
    "data_x.total.fillna(max(data_x.total), inplace = True)"
   ]
  },
  {
   "cell_type": "code",
   "execution_count": 60,
   "metadata": {
    "collapsed": false
   },
   "outputs": [
    {
     "data": {
      "text/plain": [
       "A               417107\n",
       "B               417107\n",
       "C               417107\n",
       "D               417107\n",
       "E               417107\n",
       "F               417107\n",
       "G               417107\n",
       "H               417107\n",
       "0_M_0           417107\n",
       "0_M_1           417107\n",
       "0_F_0           417107\n",
       "0_F_1           417107\n",
       "1_M_0           417107\n",
       "1_M_1           417107\n",
       "1_F_0           417107\n",
       "1_F_1           417107\n",
       "2003            417107\n",
       "2004            417107\n",
       "2005            417107\n",
       "2006            417107\n",
       "Age             417107\n",
       "varC            417107\n",
       "freq            417107\n",
       "freq1           417107\n",
       "A.1             417107\n",
       "B.1             417107\n",
       "C.1             417107\n",
       "D.1             417107\n",
       "E.1             417107\n",
       "Y               417107\n",
       "total           417107\n",
       "Cash            417107\n",
       "Cheque          417107\n",
       "Other           417107\n",
       "Credit          417107\n",
       "Advertisment    417107\n",
       "Other.1         417107\n",
       "Reference       417107\n",
       "Walkin          417107\n",
       "dtype: int64"
      ]
     },
     "execution_count": 60,
     "metadata": {},
     "output_type": "execute_result"
    }
   ],
   "source": [
    "data_x.count()"
   ]
  },
  {
   "cell_type": "code",
   "execution_count": null,
   "metadata": {
    "collapsed": true
   },
   "outputs": [],
   "source": []
  }
 ],
 "metadata": {
  "kernelspec": {
   "display_name": "Python 2",
   "language": "python",
   "name": "python2"
  },
  "language_info": {
   "codemirror_mode": {
    "name": "ipython",
    "version": 2
   },
   "file_extension": ".py",
   "mimetype": "text/x-python",
   "name": "python",
   "nbconvert_exporter": "python",
   "pygments_lexer": "ipython2",
   "version": "2.7.11"
  }
 },
 "nbformat": 4,
 "nbformat_minor": 0
}
