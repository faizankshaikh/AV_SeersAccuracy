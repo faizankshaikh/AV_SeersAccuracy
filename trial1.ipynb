{
 "cells": [
  {
   "cell_type": "code",
   "execution_count": 98,
   "metadata": {
    "collapsed": true
   },
   "outputs": [],
   "source": [
    "import numpy as np\n",
    "import pandas as pd\n",
    "\n",
    "from sklearn.naive_bayes import BernoulliNB, MultinomialNB\n",
    "from sklearn.ensemble import RandomForestClassifier, GradientBoostingClassifier\n",
    "from sklearn.linear_model import LogisticRegression\n",
    "from sklearn.tree import DecisionTreeClassifier\n",
    "from sklearn.metrics import roc_auc_score"
   ]
  },
  {
   "cell_type": "code",
   "execution_count": 7,
   "metadata": {
    "collapsed": false
   },
   "outputs": [],
   "source": [
    "data = pd.read_csv('data/submission1.csv')"
   ]
  },
  {
   "cell_type": "code",
   "execution_count": 8,
   "metadata": {
    "collapsed": false
   },
   "outputs": [
    {
     "data": {
      "text/html": [
       "<div>\n",
       "<table border=\"1\" class=\"dataframe\">\n",
       "  <thead>\n",
       "    <tr style=\"text-align: right;\">\n",
       "      <th></th>\n",
       "      <th>A</th>\n",
       "      <th>B</th>\n",
       "      <th>C</th>\n",
       "      <th>D</th>\n",
       "      <th>E</th>\n",
       "      <th>F</th>\n",
       "      <th>G</th>\n",
       "      <th>H</th>\n",
       "      <th>0_M_0</th>\n",
       "      <th>0_M_1</th>\n",
       "      <th>...</th>\n",
       "      <th>Cash</th>\n",
       "      <th>Cheque</th>\n",
       "      <th>Other</th>\n",
       "      <th>Credit</th>\n",
       "      <th>Client_ID</th>\n",
       "      <th>Advertisment</th>\n",
       "      <th>Other.1</th>\n",
       "      <th>Reference</th>\n",
       "      <th>Walkin</th>\n",
       "      <th>Target</th>\n",
       "    </tr>\n",
       "  </thead>\n",
       "  <tbody>\n",
       "    <tr>\n",
       "      <th>0</th>\n",
       "      <td>0</td>\n",
       "      <td>1</td>\n",
       "      <td>0</td>\n",
       "      <td>0</td>\n",
       "      <td>0</td>\n",
       "      <td>0</td>\n",
       "      <td>0</td>\n",
       "      <td>0</td>\n",
       "      <td>1</td>\n",
       "      <td>0</td>\n",
       "      <td>...</td>\n",
       "      <td>0</td>\n",
       "      <td>1</td>\n",
       "      <td>0</td>\n",
       "      <td>0</td>\n",
       "      <td>345612161</td>\n",
       "      <td>0</td>\n",
       "      <td>0</td>\n",
       "      <td>0</td>\n",
       "      <td>1</td>\n",
       "      <td>0</td>\n",
       "    </tr>\n",
       "    <tr>\n",
       "      <th>1</th>\n",
       "      <td>0</td>\n",
       "      <td>2</td>\n",
       "      <td>0</td>\n",
       "      <td>0</td>\n",
       "      <td>0</td>\n",
       "      <td>0</td>\n",
       "      <td>0</td>\n",
       "      <td>0</td>\n",
       "      <td>2</td>\n",
       "      <td>0</td>\n",
       "      <td>...</td>\n",
       "      <td>0</td>\n",
       "      <td>0</td>\n",
       "      <td>0</td>\n",
       "      <td>1</td>\n",
       "      <td>345612467</td>\n",
       "      <td>0</td>\n",
       "      <td>1</td>\n",
       "      <td>0</td>\n",
       "      <td>0</td>\n",
       "      <td>0</td>\n",
       "    </tr>\n",
       "    <tr>\n",
       "      <th>2</th>\n",
       "      <td>0</td>\n",
       "      <td>0</td>\n",
       "      <td>2</td>\n",
       "      <td>0</td>\n",
       "      <td>0</td>\n",
       "      <td>0</td>\n",
       "      <td>0</td>\n",
       "      <td>0</td>\n",
       "      <td>0</td>\n",
       "      <td>0</td>\n",
       "      <td>...</td>\n",
       "      <td>0</td>\n",
       "      <td>1</td>\n",
       "      <td>0</td>\n",
       "      <td>0</td>\n",
       "      <td>345612552</td>\n",
       "      <td>0</td>\n",
       "      <td>0</td>\n",
       "      <td>1</td>\n",
       "      <td>0</td>\n",
       "      <td>0</td>\n",
       "    </tr>\n",
       "    <tr>\n",
       "      <th>3</th>\n",
       "      <td>4</td>\n",
       "      <td>0</td>\n",
       "      <td>0</td>\n",
       "      <td>0</td>\n",
       "      <td>0</td>\n",
       "      <td>0</td>\n",
       "      <td>0</td>\n",
       "      <td>0</td>\n",
       "      <td>0</td>\n",
       "      <td>0</td>\n",
       "      <td>...</td>\n",
       "      <td>0</td>\n",
       "      <td>1</td>\n",
       "      <td>0</td>\n",
       "      <td>0</td>\n",
       "      <td>345612557</td>\n",
       "      <td>0</td>\n",
       "      <td>0</td>\n",
       "      <td>0</td>\n",
       "      <td>1</td>\n",
       "      <td>0</td>\n",
       "    </tr>\n",
       "    <tr>\n",
       "      <th>4</th>\n",
       "      <td>0</td>\n",
       "      <td>1</td>\n",
       "      <td>0</td>\n",
       "      <td>0</td>\n",
       "      <td>0</td>\n",
       "      <td>0</td>\n",
       "      <td>0</td>\n",
       "      <td>2</td>\n",
       "      <td>1</td>\n",
       "      <td>0</td>\n",
       "      <td>...</td>\n",
       "      <td>0</td>\n",
       "      <td>0</td>\n",
       "      <td>0</td>\n",
       "      <td>2</td>\n",
       "      <td>345612625</td>\n",
       "      <td>0</td>\n",
       "      <td>0</td>\n",
       "      <td>0</td>\n",
       "      <td>2</td>\n",
       "      <td>0</td>\n",
       "    </tr>\n",
       "  </tbody>\n",
       "</table>\n",
       "<p>5 rows × 41 columns</p>\n",
       "</div>"
      ],
      "text/plain": [
       "   A  B  C  D  E  F  G  H  0_M_0  0_M_1   ...    Cash  Cheque  Other  Credit  \\\n",
       "0  0  1  0  0  0  0  0  0      1      0   ...       0       1      0       0   \n",
       "1  0  2  0  0  0  0  0  0      2      0   ...       0       0      0       1   \n",
       "2  0  0  2  0  0  0  0  0      0      0   ...       0       1      0       0   \n",
       "3  4  0  0  0  0  0  0  0      0      0   ...       0       1      0       0   \n",
       "4  0  1  0  0  0  0  0  2      1      0   ...       0       0      0       2   \n",
       "\n",
       "   Client_ID  Advertisment  Other.1  Reference  Walkin  Target  \n",
       "0  345612161             0        0          0       1       0  \n",
       "1  345612467             0        1          0       0       0  \n",
       "2  345612552             0        0          1       0       0  \n",
       "3  345612557             0        0          0       1       0  \n",
       "4  345612625             0        0          0       2       0  \n",
       "\n",
       "[5 rows x 41 columns]"
      ]
     },
     "execution_count": 8,
     "metadata": {},
     "output_type": "execute_result"
    }
   ],
   "source": [
    "data.head()"
   ]
  },
  {
   "cell_type": "code",
   "execution_count": 9,
   "metadata": {
    "collapsed": false
   },
   "outputs": [
    {
     "name": "stdout",
     "output_type": "stream",
     "text": [
      "<class 'pandas.core.frame.DataFrame'>\n",
      "Int64Index: 417107 entries, 0 to 417106\n",
      "Data columns (total 41 columns):\n",
      "A               417107 non-null int64\n",
      "B               417107 non-null int64\n",
      "C               417107 non-null int64\n",
      "D               417107 non-null int64\n",
      "E               417107 non-null int64\n",
      "F               417107 non-null int64\n",
      "G               417107 non-null int64\n",
      "H               417107 non-null int64\n",
      "0_M_0           417107 non-null int64\n",
      "0_M_1           417107 non-null int64\n",
      "0_F_0           417107 non-null int64\n",
      "0_F_1           417107 non-null int64\n",
      "1_M_0           417107 non-null int64\n",
      "1_M_1           417107 non-null int64\n",
      "1_F_0           417107 non-null int64\n",
      "1_F_1           417107 non-null int64\n",
      "2003            417107 non-null int64\n",
      "2004            417107 non-null int64\n",
      "2005            417107 non-null int64\n",
      "2006            417107 non-null int64\n",
      "Age             417107 non-null float64\n",
      "varC            417107 non-null int64\n",
      "freq            417107 non-null int64\n",
      "freq1           417107 non-null int64\n",
      "A.1             417107 non-null int64\n",
      "B.1             417107 non-null int64\n",
      "C.1             417107 non-null int64\n",
      "D.1             417107 non-null int64\n",
      "E.1             417107 non-null int64\n",
      "Y               417107 non-null int64\n",
      "total           417107 non-null float64\n",
      "Cash            417107 non-null int64\n",
      "Cheque          417107 non-null int64\n",
      "Other           417107 non-null int64\n",
      "Credit          417107 non-null int64\n",
      "Client_ID       417107 non-null int64\n",
      "Advertisment    417107 non-null int64\n",
      "Other.1         417107 non-null int64\n",
      "Reference       417107 non-null int64\n",
      "Walkin          417107 non-null int64\n",
      "Target          417107 non-null int64\n",
      "dtypes: float64(2), int64(39)\n",
      "memory usage: 133.7 MB\n"
     ]
    }
   ],
   "source": [
    "data.info()"
   ]
  },
  {
   "cell_type": "code",
   "execution_count": 30,
   "metadata": {
    "collapsed": false
   },
   "outputs": [],
   "source": [
    "data_x = data.drop(['Client_ID', 'Target'], axis = 1)\n",
    "data_y = data.Target"
   ]
  },
  {
   "cell_type": "code",
   "execution_count": 31,
   "metadata": {
    "collapsed": false
   },
   "outputs": [
    {
     "name": "stdout",
     "output_type": "stream",
     "text": [
      "<class 'pandas.core.frame.DataFrame'>\n",
      "Int64Index: 417107 entries, 0 to 417106\n",
      "Data columns (total 39 columns):\n",
      "A               417107 non-null int64\n",
      "B               417107 non-null int64\n",
      "C               417107 non-null int64\n",
      "D               417107 non-null int64\n",
      "E               417107 non-null int64\n",
      "F               417107 non-null int64\n",
      "G               417107 non-null int64\n",
      "H               417107 non-null int64\n",
      "0_M_0           417107 non-null int64\n",
      "0_M_1           417107 non-null int64\n",
      "0_F_0           417107 non-null int64\n",
      "0_F_1           417107 non-null int64\n",
      "1_M_0           417107 non-null int64\n",
      "1_M_1           417107 non-null int64\n",
      "1_F_0           417107 non-null int64\n",
      "1_F_1           417107 non-null int64\n",
      "2003            417107 non-null int64\n",
      "2004            417107 non-null int64\n",
      "2005            417107 non-null int64\n",
      "2006            417107 non-null int64\n",
      "Age             417107 non-null float64\n",
      "varC            417107 non-null int64\n",
      "freq            417107 non-null int64\n",
      "freq1           417107 non-null int64\n",
      "A.1             417107 non-null int64\n",
      "B.1             417107 non-null int64\n",
      "C.1             417107 non-null int64\n",
      "D.1             417107 non-null int64\n",
      "E.1             417107 non-null int64\n",
      "Y               417107 non-null int64\n",
      "total           417107 non-null float64\n",
      "Cash            417107 non-null int64\n",
      "Cheque          417107 non-null int64\n",
      "Other           417107 non-null int64\n",
      "Credit          417107 non-null int64\n",
      "Advertisment    417107 non-null int64\n",
      "Other.1         417107 non-null int64\n",
      "Reference       417107 non-null int64\n",
      "Walkin          417107 non-null int64\n",
      "dtypes: float64(2), int64(37)\n",
      "memory usage: 127.3 MB\n"
     ]
    }
   ],
   "source": [
    "data_x.info()"
   ]
  },
  {
   "cell_type": "code",
   "execution_count": 36,
   "metadata": {
    "collapsed": false
   },
   "outputs": [],
   "source": [
    "train_x = data_x[data_x['2006'] == 0].values\n",
    "train_y = data_y[data_x['2006'] == 0].values\n",
    "test_x = data_x[data_x['2006'] == 1].values\n",
    "test_y = data_y[data_x['2006'] == 1].values"
   ]
  },
  {
   "cell_type": "code",
   "execution_count": 93,
   "metadata": {
    "collapsed": true
   },
   "outputs": [],
   "source": [
    "rmf = RandomForestClassifier(n_jobs=3, n_estimators=100, max_depth=25)"
   ]
  },
  {
   "cell_type": "code",
   "execution_count": 94,
   "metadata": {
    "collapsed": false
   },
   "outputs": [
    {
     "data": {
      "text/plain": [
       "0.57005836726453063"
      ]
     },
     "execution_count": 94,
     "metadata": {},
     "output_type": "execute_result"
    }
   ],
   "source": [
    "rmf.fit(train_x, train_y);\n",
    "roc_auc_score(test_y, rmf.predict(test_x))"
   ]
  },
  {
   "cell_type": "code",
   "execution_count": 70,
   "metadata": {
    "collapsed": true
   },
   "outputs": [],
   "source": [
    "gbm = GradientBoostingClassifier(n_estimators=50)"
   ]
  },
  {
   "cell_type": "code",
   "execution_count": 71,
   "metadata": {
    "collapsed": false
   },
   "outputs": [
    {
     "data": {
      "text/plain": [
       "0.57107746592837916"
      ]
     },
     "execution_count": 71,
     "metadata": {},
     "output_type": "execute_result"
    }
   ],
   "source": [
    "gbm.fit(train_x, train_y);\n",
    "roc_auc_score(test_y, gbm.predict(test_x))"
   ]
  },
  {
   "cell_type": "code",
   "execution_count": 158,
   "metadata": {
    "collapsed": true
   },
   "outputs": [],
   "source": [
    "nb = BernoulliNB(250)"
   ]
  },
  {
   "cell_type": "code",
   "execution_count": 159,
   "metadata": {
    "collapsed": false
   },
   "outputs": [
    {
     "data": {
      "text/plain": [
       "0.8184731026763219"
      ]
     },
     "execution_count": 159,
     "metadata": {},
     "output_type": "execute_result"
    }
   ],
   "source": [
    "nb.fit(train_x, train_y);\n",
    "roc_auc_score(test_y, nb.predict(test_x))"
   ]
  },
  {
   "cell_type": "code",
   "execution_count": 99,
   "metadata": {
    "collapsed": true
   },
   "outputs": [],
   "source": [
    "mb = MultinomialNB()"
   ]
  },
  {
   "cell_type": "code",
   "execution_count": 100,
   "metadata": {
    "collapsed": false
   },
   "outputs": [
    {
     "data": {
      "text/plain": [
       "0.70909643496139874"
      ]
     },
     "execution_count": 100,
     "metadata": {},
     "output_type": "execute_result"
    }
   ],
   "source": [
    "mb.fit(train_x, train_y);\n",
    "roc_auc_score(test_y, mb.predict(test_x))"
   ]
  },
  {
   "cell_type": "code",
   "execution_count": 91,
   "metadata": {
    "collapsed": true
   },
   "outputs": [],
   "source": [
    "tr = DecisionTreeClassifier(max_depth=10)"
   ]
  },
  {
   "cell_type": "code",
   "execution_count": 92,
   "metadata": {
    "collapsed": false
   },
   "outputs": [
    {
     "data": {
      "text/plain": [
       "0.57092648834854964"
      ]
     },
     "execution_count": 92,
     "metadata": {},
     "output_type": "execute_result"
    }
   ],
   "source": [
    "tr.fit(train_x, train_y);\n",
    "roc_auc_score(test_y, tr.predict(test_x))"
   ]
  },
  {
   "cell_type": "code",
   "execution_count": 73,
   "metadata": {
    "collapsed": true
   },
   "outputs": [],
   "source": [
    "lr = LogisticRegression()"
   ]
  },
  {
   "cell_type": "code",
   "execution_count": 74,
   "metadata": {
    "collapsed": false
   },
   "outputs": [
    {
     "data": {
      "text/plain": [
       "0.5650274806624076"
      ]
     },
     "execution_count": 74,
     "metadata": {},
     "output_type": "execute_result"
    }
   ],
   "source": [
    "lr.fit(train_x, train_y);\n",
    "roc_auc_score(test_y, lr.predict(test_x))"
   ]
  },
  {
   "cell_type": "code",
   "execution_count": 160,
   "metadata": {
    "collapsed": false
   },
   "outputs": [],
   "source": [
    "pred = nb.predict_proba(data_x)"
   ]
  },
  {
   "cell_type": "code",
   "execution_count": 161,
   "metadata": {
    "collapsed": false
   },
   "outputs": [],
   "source": [
    "sub_1 = pd.DataFrame({'Client_ID':data.Client_ID, 'Cross_Sell':pred[:, 1]})"
   ]
  },
  {
   "cell_type": "code",
   "execution_count": 162,
   "metadata": {
    "collapsed": true
   },
   "outputs": [],
   "source": [
    "sub_1.to_csv('sub05.csv', index=False)"
   ]
  },
  {
   "cell_type": "code",
   "execution_count": null,
   "metadata": {
    "collapsed": true
   },
   "outputs": [],
   "source": []
  },
  {
   "cell_type": "code",
   "execution_count": null,
   "metadata": {
    "collapsed": true
   },
   "outputs": [],
   "source": []
  }
 ],
 "metadata": {
  "kernelspec": {
   "display_name": "Python 2",
   "language": "python",
   "name": "python2"
  },
  "language_info": {
   "codemirror_mode": {
    "name": "ipython",
    "version": 2
   },
   "file_extension": ".py",
   "mimetype": "text/x-python",
   "name": "python",
   "nbconvert_exporter": "python",
   "pygments_lexer": "ipython2",
   "version": "2.7.11"
  }
 },
 "nbformat": 4,
 "nbformat_minor": 0
}
