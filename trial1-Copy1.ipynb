{
 "cells": [
  {
   "cell_type": "code",
   "execution_count": 49,
   "metadata": {
    "collapsed": true
   },
   "outputs": [],
   "source": [
    "import numpy as np\n",
    "import pandas as pd\n",
    "\n",
    "from sklearn.naive_bayes import BernoulliNB, MultinomialNB\n",
    "from sklearn.svm import SVC\n",
    "from sklearn.ensemble import RandomForestClassifier, GradientBoostingClassifier\n",
    "from sklearn.linear_model import LogisticRegression\n",
    "from sklearn.tree import DecisionTreeClassifier\n",
    "\n",
    "from sklearn.feature_selection import RFE\n",
    "\n",
    "\n",
    "from sklearn.metrics import roc_auc_score\n",
    "from sklearn.grid_search import GridSearchCV"
   ]
  },
  {
   "cell_type": "code",
   "execution_count": 2,
   "metadata": {
    "collapsed": false
   },
   "outputs": [],
   "source": [
    "data = pd.read_csv('data/sub1.csv')"
   ]
  },
  {
   "cell_type": "code",
   "execution_count": 3,
   "metadata": {
    "collapsed": false
   },
   "outputs": [
    {
     "data": {
      "text/html": [
       "<div>\n",
       "<table border=\"1\" class=\"dataframe\">\n",
       "  <thead>\n",
       "    <tr style=\"text-align: right;\">\n",
       "      <th></th>\n",
       "      <th>Unnamed: 0</th>\n",
       "      <th>Client_ID</th>\n",
       "      <th>2003</th>\n",
       "      <th>2004</th>\n",
       "      <th>2005</th>\n",
       "      <th>2006</th>\n",
       "      <th>0_M_NO</th>\n",
       "      <th>0_M_YES</th>\n",
       "      <th>0_F_NO</th>\n",
       "      <th>0_F_YES</th>\n",
       "      <th>...</th>\n",
       "      <th>1_F_NO</th>\n",
       "      <th>1_F_YES</th>\n",
       "      <th>var</th>\n",
       "      <th>age</th>\n",
       "      <th>amount</th>\n",
       "      <th>payment</th>\n",
       "      <th>lead</th>\n",
       "      <th>Product</th>\n",
       "      <th>employee</th>\n",
       "      <th>target</th>\n",
       "    </tr>\n",
       "  </thead>\n",
       "  <tbody>\n",
       "    <tr>\n",
       "      <th>0</th>\n",
       "      <td>1</td>\n",
       "      <td>345612161</td>\n",
       "      <td>1</td>\n",
       "      <td>0</td>\n",
       "      <td>0</td>\n",
       "      <td>0</td>\n",
       "      <td>1</td>\n",
       "      <td>0</td>\n",
       "      <td>0</td>\n",
       "      <td>0</td>\n",
       "      <td>...</td>\n",
       "      <td>0</td>\n",
       "      <td>0</td>\n",
       "      <td>1</td>\n",
       "      <td>53</td>\n",
       "      <td>15500.0</td>\n",
       "      <td>Cheque</td>\n",
       "      <td>Walkin</td>\n",
       "      <td>B</td>\n",
       "      <td>A</td>\n",
       "      <td>0</td>\n",
       "    </tr>\n",
       "    <tr>\n",
       "      <th>1</th>\n",
       "      <td>2</td>\n",
       "      <td>345612467</td>\n",
       "      <td>1</td>\n",
       "      <td>0</td>\n",
       "      <td>0</td>\n",
       "      <td>0</td>\n",
       "      <td>1</td>\n",
       "      <td>0</td>\n",
       "      <td>0</td>\n",
       "      <td>0</td>\n",
       "      <td>...</td>\n",
       "      <td>0</td>\n",
       "      <td>0</td>\n",
       "      <td>2</td>\n",
       "      <td>45</td>\n",
       "      <td>27744.5</td>\n",
       "      <td>Card</td>\n",
       "      <td>others</td>\n",
       "      <td>B</td>\n",
       "      <td>C</td>\n",
       "      <td>0</td>\n",
       "    </tr>\n",
       "    <tr>\n",
       "      <th>2</th>\n",
       "      <td>3</td>\n",
       "      <td>345612552</td>\n",
       "      <td>0</td>\n",
       "      <td>0</td>\n",
       "      <td>1</td>\n",
       "      <td>0</td>\n",
       "      <td>0</td>\n",
       "      <td>0</td>\n",
       "      <td>0</td>\n",
       "      <td>0</td>\n",
       "      <td>...</td>\n",
       "      <td>0</td>\n",
       "      <td>0</td>\n",
       "      <td>2</td>\n",
       "      <td>48</td>\n",
       "      <td>62565.0</td>\n",
       "      <td>Cheque</td>\n",
       "      <td>References</td>\n",
       "      <td>C</td>\n",
       "      <td>B</td>\n",
       "      <td>0</td>\n",
       "    </tr>\n",
       "    <tr>\n",
       "      <th>3</th>\n",
       "      <td>4</td>\n",
       "      <td>345612557</td>\n",
       "      <td>0</td>\n",
       "      <td>1</td>\n",
       "      <td>0</td>\n",
       "      <td>0</td>\n",
       "      <td>0</td>\n",
       "      <td>0</td>\n",
       "      <td>0</td>\n",
       "      <td>0</td>\n",
       "      <td>...</td>\n",
       "      <td>0</td>\n",
       "      <td>0</td>\n",
       "      <td>4</td>\n",
       "      <td>64</td>\n",
       "      <td>31918.0</td>\n",
       "      <td>Cheque</td>\n",
       "      <td>Walkin</td>\n",
       "      <td>A</td>\n",
       "      <td>A</td>\n",
       "      <td>0</td>\n",
       "    </tr>\n",
       "    <tr>\n",
       "      <th>4</th>\n",
       "      <td>5</td>\n",
       "      <td>345612625</td>\n",
       "      <td>1</td>\n",
       "      <td>0</td>\n",
       "      <td>1</td>\n",
       "      <td>0</td>\n",
       "      <td>1</td>\n",
       "      <td>0</td>\n",
       "      <td>0</td>\n",
       "      <td>0</td>\n",
       "      <td>...</td>\n",
       "      <td>0</td>\n",
       "      <td>0</td>\n",
       "      <td>3</td>\n",
       "      <td>27</td>\n",
       "      <td>59415.5</td>\n",
       "      <td>Card</td>\n",
       "      <td>Walkin</td>\n",
       "      <td>B</td>\n",
       "      <td>A</td>\n",
       "      <td>0</td>\n",
       "    </tr>\n",
       "  </tbody>\n",
       "</table>\n",
       "<p>5 rows × 22 columns</p>\n",
       "</div>"
      ],
      "text/plain": [
       "   Unnamed: 0  Client_ID  2003  2004  2005  2006  0_M_NO  0_M_YES  0_F_NO  \\\n",
       "0           1  345612161     1     0     0     0       1        0       0   \n",
       "1           2  345612467     1     0     0     0       1        0       0   \n",
       "2           3  345612552     0     0     1     0       0        0       0   \n",
       "3           4  345612557     0     1     0     0       0        0       0   \n",
       "4           5  345612625     1     0     1     0       1        0       0   \n",
       "\n",
       "   0_F_YES  ...    1_F_NO  1_F_YES  var  age   amount  payment        lead  \\\n",
       "0        0  ...         0        0    1   53  15500.0   Cheque      Walkin   \n",
       "1        0  ...         0        0    2   45  27744.5     Card      others   \n",
       "2        0  ...         0        0    2   48  62565.0   Cheque  References   \n",
       "3        0  ...         0        0    4   64  31918.0   Cheque      Walkin   \n",
       "4        0  ...         0        0    3   27  59415.5     Card      Walkin   \n",
       "\n",
       "  Product employee target  \n",
       "0       B        A      0  \n",
       "1       B        C      0  \n",
       "2       C        B      0  \n",
       "3       A        A      0  \n",
       "4       B        A      0  \n",
       "\n",
       "[5 rows x 22 columns]"
      ]
     },
     "execution_count": 3,
     "metadata": {},
     "output_type": "execute_result"
    }
   ],
   "source": [
    "data.head()"
   ]
  },
  {
   "cell_type": "code",
   "execution_count": 5,
   "metadata": {
    "collapsed": false
   },
   "outputs": [
    {
     "name": "stdout",
     "output_type": "stream",
     "text": [
      "<class 'pandas.core.frame.DataFrame'>\n",
      "Int64Index: 417107 entries, 0 to 417106\n",
      "Data columns (total 22 columns):\n",
      "Unnamed: 0    417107 non-null int64\n",
      "Client_ID     417107 non-null int64\n",
      "2003          417107 non-null int64\n",
      "2004          417107 non-null int64\n",
      "2005          417107 non-null int64\n",
      "2006          417107 non-null int64\n",
      "0_M_NO        417107 non-null int64\n",
      "0_M_YES       417107 non-null int64\n",
      "0_F_NO        417107 non-null int64\n",
      "0_F_YES       417107 non-null int64\n",
      "1_M_NO        417107 non-null int64\n",
      "1_M_YES       417107 non-null int64\n",
      "1_F_NO        417107 non-null int64\n",
      "1_F_YES       417107 non-null int64\n",
      "var           417107 non-null int64\n",
      "age           417107 non-null float64\n",
      "amount        417107 non-null float64\n",
      "payment       417107 non-null object\n",
      "lead          417107 non-null object\n",
      "Product       417107 non-null object\n",
      "employee      417107 non-null object\n",
      "target        417107 non-null int64\n",
      "dtypes: float64(2), int64(16), object(4)\n",
      "memory usage: 73.2+ MB\n"
     ]
    }
   ],
   "source": [
    "data.info()"
   ]
  },
  {
   "cell_type": "code",
   "execution_count": 6,
   "metadata": {
    "collapsed": false
   },
   "outputs": [],
   "source": [
    "data_x = data.drop(['Client_ID', 'target', 'Unnamed: 0'], axis = 1)\n",
    "data_y = data.target"
   ]
  },
  {
   "cell_type": "code",
   "execution_count": 27,
   "metadata": {
    "collapsed": false
   },
   "outputs": [
    {
     "name": "stdout",
     "output_type": "stream",
     "text": [
      "<class 'pandas.core.frame.DataFrame'>\n",
      "Int64Index: 417107 entries, 0 to 417106\n",
      "Data columns (total 36 columns):\n",
      "2003                  417107 non-null int64\n",
      "2004                  417107 non-null int64\n",
      "2005                  417107 non-null int64\n",
      "2006                  417107 non-null int64\n",
      "0_M_NO                417107 non-null int64\n",
      "0_M_YES               417107 non-null int64\n",
      "0_F_NO                417107 non-null int64\n",
      "0_F_YES               417107 non-null int64\n",
      "1_M_NO                417107 non-null int64\n",
      "1_M_YES               417107 non-null int64\n",
      "1_F_NO                417107 non-null int64\n",
      "1_F_YES               417107 non-null int64\n",
      "var                   417107 non-null int64\n",
      "age                   417107 non-null float64\n",
      "amount                417107 non-null float64\n",
      "payment_Card          417107 non-null float64\n",
      "payment_Cash          417107 non-null float64\n",
      "payment_Cheque        417107 non-null float64\n",
      "payment_Others        417107 non-null float64\n",
      "lead_Advertisement    417107 non-null float64\n",
      "lead_References       417107 non-null float64\n",
      "lead_Walkin           417107 non-null float64\n",
      "lead_others           417107 non-null float64\n",
      "Product_A             417107 non-null float64\n",
      "Product_B             417107 non-null float64\n",
      "Product_C             417107 non-null float64\n",
      "Product_D             417107 non-null float64\n",
      "Product_E             417107 non-null float64\n",
      "Product_F             417107 non-null float64\n",
      "Product_G             417107 non-null float64\n",
      "Product_H             417107 non-null float64\n",
      "employee_A            417107 non-null float64\n",
      "employee_B            417107 non-null float64\n",
      "employee_C            417107 non-null float64\n",
      "employee_D            417107 non-null float64\n",
      "employee_E            417107 non-null float64\n",
      "dtypes: float64(23), int64(13)\n",
      "memory usage: 117.7 MB\n"
     ]
    }
   ],
   "source": [
    "data_x.info()"
   ]
  },
  {
   "cell_type": "code",
   "execution_count": 26,
   "metadata": {
    "collapsed": false
   },
   "outputs": [],
   "source": [
    "cat_col = ['payment', 'lead', 'Product', 'employee']\n",
    "data_x = pd.concat([data_x, pd.get_dummies(data_x.ix[:, cat_col])], axis = 1)\n",
    "data_x.drop(cat_col, axis = 1, inplace=True)"
   ]
  },
  {
   "cell_type": "code",
   "execution_count": 28,
   "metadata": {
    "collapsed": false
   },
   "outputs": [],
   "source": [
    "train_x = data_x[data_x['2006'] == 0].values\n",
    "train_y = data_y[data_x['2006'] == 0].values\n",
    "test_x = data_x[data_x['2006'] == 1].values\n",
    "test_y = data_y[data_x['2006'] == 1].values"
   ]
  },
  {
   "cell_type": "code",
   "execution_count": 29,
   "metadata": {
    "collapsed": true
   },
   "outputs": [],
   "source": [
    "rmf = RandomForestClassifier(n_jobs=3, n_estimators=100, max_depth=5)"
   ]
  },
  {
   "cell_type": "code",
   "execution_count": 30,
   "metadata": {
    "collapsed": false
   },
   "outputs": [
    {
     "data": {
      "text/plain": [
       "0.51007556675062971"
      ]
     },
     "execution_count": 30,
     "metadata": {},
     "output_type": "execute_result"
    }
   ],
   "source": [
    "rmf.fit(train_x, train_y);\n",
    "roc_auc_score(test_y, rmf.predict(test_x))"
   ]
  },
  {
   "cell_type": "code",
   "execution_count": 47,
   "metadata": {
    "collapsed": false
   },
   "outputs": [],
   "source": [
    "nb = BernoulliNB(250)"
   ]
  },
  {
   "cell_type": "code",
   "execution_count": 40,
   "metadata": {
    "collapsed": false
   },
   "outputs": [
    {
     "data": {
      "text/plain": [
       "0.62554528986235658"
      ]
     },
     "execution_count": 40,
     "metadata": {},
     "output_type": "execute_result"
    }
   ],
   "source": [
    "nb.fit(train_x, train_y);\n",
    "roc_auc_score(test_y, nb.predict(test_x))"
   ]
  },
  {
   "cell_type": "code",
   "execution_count": null,
   "metadata": {
    "collapsed": true
   },
   "outputs": [],
   "source": []
  },
  {
   "cell_type": "code",
   "execution_count": 48,
   "metadata": {
    "collapsed": false
   },
   "outputs": [
    {
     "name": "stdout",
     "output_type": "stream",
     "text": [
      "0.712309746919 \n",
      "\n",
      "0.712309746919 \n",
      "\n",
      "0.712309746919 \n",
      "\n",
      "0.712309746919 \n",
      "\n",
      "0.712309746919 \n",
      "\n",
      "0.756449414296 \n",
      "\n",
      "0.756161797632 \n",
      "\n",
      "0.759278616835 \n",
      "\n",
      "0.762002996864 \n",
      "\n",
      "0.737360334308 \n",
      "\n"
     ]
    }
   ],
   "source": [
    "for i in range(40, 30, -1):\n",
    "    rfe = RFE(nb, n_features_to_select=i)\n",
    "    rfe.fit(train_x, train_y);\n",
    "    print roc_auc_score(test_y, rfe.predict(test_x)), '\\n'"
   ]
  },
  {
   "cell_type": "code",
   "execution_count": null,
   "metadata": {
    "collapsed": true
   },
   "outputs": [],
   "source": []
  }
 ],
 "metadata": {
  "kernelspec": {
   "display_name": "Python 2",
   "language": "python",
   "name": "python2"
  },
  "language_info": {
   "codemirror_mode": {
    "name": "ipython",
    "version": 2
   },
   "file_extension": ".py",
   "mimetype": "text/x-python",
   "name": "python",
   "nbconvert_exporter": "python",
   "pygments_lexer": "ipython2",
   "version": "2.7.11"
  }
 },
 "nbformat": 4,
 "nbformat_minor": 0
}
